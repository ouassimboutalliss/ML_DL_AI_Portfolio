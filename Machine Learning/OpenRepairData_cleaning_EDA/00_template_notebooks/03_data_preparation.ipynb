{
 "cells": [
  {
   "cell_type": "markdown",
   "metadata": {},
   "source": [
    "## Data preparation\n",
    "The goal of this phase is to deliver the data in the most appropriate representation for consumption by more advanced data mining & machine learning methods. This includes transforming the data, defining and extracting characteristic features and selecting the most relevant features, ... "
   ]
  },
  {
   "cell_type": "markdown",
   "metadata": {},
   "source": [
    "### Data transformation"
   ]
  },
  {
   "cell_type": "markdown",
   "metadata": {},
   "source": [
    "> Based on the exploration activities, you have retained a number of interesting attributes and instances. You should now apply some standard transformations on them, such as\n",
    "> - normalization to make the attributes comparable: using min-max or z-score\n",
    "> - discretization to convert numerical into categorical attributes\n",
    "> - one-hot encoding to convert categorical into numerical attributes\n",
    "> - resampling to convert the frequency\n",
    "> - ..."
   ]
  },
  {
   "cell_type": "markdown",
   "metadata": {},
   "source": [
    "### Feature construction & extraction\n",
    "Feature engineering is the most creative part of the data science process and aims to turn the raw (but preprocessed) data into higher-level concepts that are valuable for the modelling step. \n",
    "\n",
    "> Consider some of the common features for the different types of data\n",
    "> - for time series data (using a windowing approach if appropriate):\n",
    ">     - mean & standard deviation\n",
    ">     - mean or zero crossing rate: the number of times the series crosses the mean/zero axis\n",
    ">     - peak distance: the time between two peaks\n",
    ">     - peak mean: the mean of the peaks\n",
    ">     - count above/below mean\n",
    ">     - first/last location of maximum/minimum\n",
    ">     - number of occurrences of minimum/maximum/any value\n",
    ">     - number of peaks\n",
    ">     - longest strike above/below mean\n",
    ">     - mean (absolute) change\n",
    ">     - average autocorrelation\n",
    ">     - number of observed values within interval\n",
    ">     - ... \n",
    "> - for location data (using geohashing when relevant):  \n",
    ">     - time spent at particular location\n",
    ">     - number of items passing a particular location\n",
    ">     - time spent between different locations\n",
    ">     - min-max-mean speed between different locations\n",
    ">     - ... \n",
    "> - for log data: \n",
    ">     - time-based features: duration of a sequence, timestamp at which most events occur, ...\n",
    ">     - frequency-based features: number of events in sequence, presence or absence of specific events, ...\n",
    ">     - density-based features: average time between occurrences of events, number of events at the timestamp at which most events occur, ...\n",
    ">     - rank-based features: rank of the event in the sequence in chronological order, rank of the event in the sequence sorted by its number of occurrences, ...\n",
    "> - for text data: \n",
    ">     - term and document frequency, tf-idf,\n",
    ">     - stem\n",
    ">     - part-of-speech\n",
    ">     - n-grams\n",
    ">     - ..."
   ]
  },
  {
   "cell_type": "markdown",
   "metadata": {},
   "source": [
    "### Feature selection\n",
    "Feature selection is the activity of selecting the most suitable/optimal set of features for the proposed data science solution.\n",
    "> You should consider different approaches afterwards:\n",
    "> - filter: select features regardless of the model, but based only on their general characteristics like their correlation with the variable to predict, their ability to discriminate outcome (e.g. using entropy or variance), or their interaction (e.g. correlation) and use PCA\n",
    "> - wrapper: run the chosen data analysis method on a representative dataset with different subsets of potential features and evaluate the results\n",
    "\n",
    "\n",
    "\n",
    "\n"
   ]
  }
 ],
 "metadata": {
  "language_info": {
   "name": "python",
   "pygments_lexer": "ipython3"
  }
 },
 "nbformat": 4,
 "nbformat_minor": 2
}
