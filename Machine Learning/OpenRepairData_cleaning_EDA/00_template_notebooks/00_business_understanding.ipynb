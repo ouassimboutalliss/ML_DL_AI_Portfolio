{
 "cells": [
  {
   "cell_type": "markdown",
   "metadata": {},
   "source": [
    "## Business understanding\n",
    "The goal of this phase is to provide answers to the following questions:\n",
    "\n",
    "- What is the business problem that the company wants to solve?\n",
    "- What domain knowledge is relevant and do we need to understand?\n",
    "- What are appropriate data science tasks (prediction, classification, recommendation, ...) and how could they be used to help solve this business problem?\n"
   ]
  },
  {
   "cell_type": "markdown",
   "metadata": {},
   "source": [
    "### Context\n",
    "> describe the **domain** and **general activities** of the company. This can be copied from the original offer."
   ]
  },
  {
   "cell_type": "markdown",
   "metadata": {},
   "source": [
    "### Business goal(s) to address\n",
    "> describe the **business goals** that the company wants to address and the relevant **domain knowledge** that could be relevant. Part of this can probably be copied from the original offer."
   ]
  },
  {
   "cell_type": "markdown",
   "metadata": {},
   "source": [
    "### Available data\n",
    "> describe in general terms what kind of **data** is expected and include some relevant **data requirements** (e.g. volume, coverage in time, sampling frequency, explicit annotations, ...) and how this is relevant for solving the problem. Then describe what data is provided (without going into much detail at this moment of course)."
   ]
  },
  {
   "cell_type": "markdown",
   "metadata": {},
   "source": [
    "### Data science solution\n",
    "> formulate the business goal as a (set of) possible **data science task(s)** (e.g. prediction, classification, recommendation, ...) and identify potentially interesting **methods** that can be applied."
   ]
  }
 ],
 "metadata": {
  "kernelspec": {
   "display_name": "Python 3 (ipykernel)",
   "language": "python",
   "name": "python3"
  },
  "language_info": {
   "codemirror_mode": {
    "name": "ipython",
    "version": 3
   },
   "file_extension": ".py",
   "mimetype": "text/x-python",
   "name": "python",
   "nbconvert_exporter": "python",
   "pygments_lexer": "ipython3",
   "version": "3.11.3"
  }
 },
 "nbformat": 4,
 "nbformat_minor": 1
}
