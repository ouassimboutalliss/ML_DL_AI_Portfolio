{
 "cells": [
  {
   "cell_type": "markdown",
   "metadata": {},
   "source": [
    "## Data modeling and evaluation\n",
    "The goal of this phase is to model the data and evaluate the model's performance. This includes selecting an appropriate data mining or machine learning algorithm, tune the model parameters to fit the data, choose an appropriate evaluation strategy, and interpret the evaluation results."
   ]
  },
  {
   "cell_type": "markdown",
   "metadata": {},
   "source": [
    "### Data split"
   ]
  },
  {
   "cell_type": "markdown",
   "metadata": {},
   "source": [
    "> In order to train and evaluate a model, you ideally have three datasets available: a training set based upon which the model can be learned,\n",
    "> a validation set which is used to test the performance of the model during development, and a test set which has not yet been seen by the algorithm\n",
    "> and is used to evaluate the model performance. Describe how you arrived at these datasets and made the split (warranting a similar distribution across train/validation/test sets, an appropriate number of instances per class to learn from, etc.)\n",
    "> For time series, particular attention needs to be paid to seasonality, leaving an appropriate gap between the the train and test set, etc."
   ]
  },
  {
   "cell_type": "markdown",
   "metadata": {},
   "source": [
    "### Algorithm selection\n",
    "\n",
    "> Describe the algorithm(s) that are appropriate to solve the problem at hand, depending on the type of data, the need for the model to be interpretable, etc.\n",
    "\n",
    "> - Clustering:\n",
    ">     - k-means\n",
    ">     - DBSCAN\n",
    ">     - ...\n",
    ">\n",
    "> - Classification\n",
    ">     - kNN\n",
    ">     - SVM\n",
    ">     - Decision tree or random forest\n",
    ">     - ...\n",
    ">\n",
    "> - Regression\n",
    ">     - ... [TO BE ADDED]\n",
    ">\n",
    "> Choose on or multiple algorithms that you will subsequently compare and, if possible, describe the advantages and disadvantages of the algorithm(s)."
   ]
  },
  {
   "cell_type": "markdown",
   "metadata": {},
   "source": [
    "### Estimator performance evaluation methodology\n",
    "> Explain how you will evaluate the model:\n",
    ">\n",
    "> - Selection of an appropriate evaluation metric, depending on the task you want to solve (accuracy or F1 for classification tasks, RMSE or MAE for regression tasks, etc.)\n",
    "> - Cross-validation approach (k-fold, leave  one out, etc.)"
   ]
  },
  {
   "cell_type": "markdown",
   "metadata": {},
   "source": [
    "### Hyperparameter tuning\n",
    "> Explain how you will tune the hyperparameters of the choosen method(s).\n",
    ">\n",
    "> - Grid search\n",
    "> - Randomized parameter optimisation\n",
    "> - Silhouette analysis for clustering"
   ]
  },
  {
   "cell_type": "markdown",
   "metadata": {},
   "source": [
    "### Estimator performance evaluation\n",
    "> - Perform the evaulation acording to the methodology that was set out above\n",
    "> - Report, interpret and discuss the obtained results\n",
    "> - Discuss appropriate actions for model improvement and, if necessary, reiterate the steps above or go back to a previous step (data selection, feature selection, etc.)"
   ]
  },
  {
   "cell_type": "markdown",
   "metadata": {},
   "source": [
    "### Conclusion\n",
    "> - What is the overall conclusion of the project?\n",
    "> - Could the hypothesis be confirmed or was it rejected?\n",
    "> - ..."
   ]
  }
 ],
 "metadata": {
  "language_info": {
   "name": "python",
   "pygments_lexer": "ipython3"
  }
 },
 "nbformat": 4,
 "nbformat_minor": 2
}
