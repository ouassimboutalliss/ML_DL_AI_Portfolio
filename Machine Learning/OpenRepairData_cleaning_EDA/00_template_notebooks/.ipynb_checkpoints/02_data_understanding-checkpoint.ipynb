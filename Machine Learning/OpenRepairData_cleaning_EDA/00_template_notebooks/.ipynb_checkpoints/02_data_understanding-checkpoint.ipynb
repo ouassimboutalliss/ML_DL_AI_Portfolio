{
 "cells": [
  {
   "cell_type": "markdown",
   "metadata": {},
   "source": [
    "## Data understanding\n",
    "The goal of this phase is to increase familiarity with data, assess data quality & suitability to the business problem at hand, discover relevant relationships, structures and patterns in the data, and outline first findings and initial insights that can be exploited in the next phases. To this end, we employ statistical methods, visualization techniques, clustering algorithms, pattern mining, etc."
   ]
  },
  {
   "cell_type": "markdown",
   "metadata": {},
   "source": [
    "### Data selection\n",
    "In order to allow for quick and easy exploration, we first select a sufficiently large and relevant subset of the data.\n",
    "\n",
    "> This is of course highly dependent on the data, the business question and the domain, so there are no general guidelines. Just make sure to explain clearly which data you select/discard and why. If you have a quite small dataset, this step can of course be skipped."
   ]
  },
  {
   "cell_type": "markdown",
   "metadata": {},
   "source": [
    "### Basic data exploration\n",
    " We now apply some basic numerical and visual exploration techniques on the selected data to develop an initial understanding of the attributes and the relationships between them.\n",
    " \n",
    "> This involves\n",
    "> - univariate analysis: explore each attribute one by one. \n",
    ">     - for numerical attributes: we need to understand the central tendencies (mean, median), the spread (min, max) and the variation (standard deviation)\n",
    ">     - for categorical attributes: we need to know the frequency for each category\n",
    "> - multi-variate analysis: explore different combinations of different attributes to understand their relationship\n",
    ">\n",
    "> Typically, all this can be shown with standard visualizations, e.g.\n",
    "> - a distribution plot can show the distribution for a numerical attribute\n",
    "> - a box plot can show the min, median, mean, max for a numerical attribute\n",
    "> - a bar/pie chart can show the frequency for each category\n",
    "> - a correlation matrix can show the correlation between different (numerical) attributes\n",
    "> - a scatter plot matrix can show the relationship (incl. correlation) between (numerical) attributes and indicate whether there are any groups to be observed\n",
    "> - a timeline plot can show whether all time-sensitive attributes cover (more or less) the same period, if there are any trends or seasonalities visible\n",
    "> - a geographical heatmap can show hotspots and outliers on a map\n",
    "> - ...\n",
    "\n",
    "> Note that some of these statistics were already presented in the reference dataset creation notebook, but in this section the goal is to provide a more detailed discussion on observed mean, variation, etc. rather then just presenting them. This means you should explicitly answer questions like:\n",
    "> - are the mean/median as expected? Is the variation higher/lower than expected?\n",
    "> - are there any obvious outliers in the univariate/multi-variate plots?\n",
    "> - are there any attributes that are strongly correlated and is this expected? Or vice versa: did you expect attributes to be correlated even though they do not seem to be?\n",
    "> - is the data more or less evenly distributed over the categories, or are there certain categories under- or over-represented? Is that expected?\n",
    "> - can we observe an increasing/decreasing trend for a time-sensitive attribute? Or sudden peaks/drops at certain moments in time?\n",
    "> - do we see any seasonality in a time-sensitive attribute (e.g. hourly/daily/weekly/monthly patterns)?\n",
    "> - ...?"
   ]
  },
  {
   "cell_type": "markdown",
   "metadata": {},
   "source": [
    "### Advanced data exploration\n",
    "> Based on the initial understanding of the data, in this phase you try to uncover more interesting patterns or structures in the data. Typically, you want to investigate the relationship between the attribute(s) of interest (e.g. the numerical attribute that you want to predict, the categorical attribute that you want to classify, ...) and  (a combination of) the other attributes present in the data. You can use techniques such as \n",
    "- PCA to group highly correlated attributes and reduce the dimensionality of the data so that it's easier to visualize\n",
    "- clustering to identify interesting groups of related instances. This typically requires to normalize the attributes first.\n",
    "- pattern mining to identify sequential patterns in the data. This typically involves discretizing the data, i.e. converting numerical attributes to categorical ones using binning techniques.\n",
    ">\n",
    "> and use more advanced visualizations such as heatmaps or clustermaps"
   ]
  },
  {
   "cell_type": "markdown",
   "metadata": {},
   "source": [
    "### Conclusion\n",
    "> Document the most important insights that you have gained about the data"
   ]
  }
 ],
 "metadata": {
  "kernelspec": {
   "display_name": "Python 3 (ipykernel)",
   "language": "python",
   "name": "python3"
  },
  "language_info": {
   "codemirror_mode": {
    "name": "ipython",
    "version": 3
   },
   "file_extension": ".py",
   "mimetype": "text/x-python",
   "name": "python",
   "nbconvert_exporter": "python",
   "pygments_lexer": "ipython3",
   "version": "3.11.3"
  }
 },
 "nbformat": 4,
 "nbformat_minor": 2
}
