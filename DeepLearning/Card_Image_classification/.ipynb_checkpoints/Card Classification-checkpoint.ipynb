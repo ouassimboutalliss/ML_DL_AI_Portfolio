{
 "cells": [
  {
   "cell_type": "markdown",
   "id": "768444f7",
   "metadata": {},
   "source": [
    "# Card Images Classification"
   ]
  },
  {
   "cell_type": "code",
   "execution_count": 1,
   "id": "2ca5056e",
   "metadata": {},
   "outputs": [],
   "source": [
    "%matplotlib inline\n",
    "import os\n",
    "import numpy as np\n",
    "import pandas as pd\n",
    "import matplotlib.pyplot as plt\n",
    "\n",
    "\n",
    "from sklearn.model_selection import train_test_split\n",
    "from sklearn.metrics import classification_report\n",
    "from sklearn.metrics import confusion_matrix, accuracy_score\n",
    "from sklearn.preprocessing import OneHotEncoder\n",
    "from sklearn import preprocessing\n",
    "from sklearn.utils import shuffle\n",
    "\n",
    "import cv2\n",
    "\n",
    "\n",
    "import matplotlib.image as mpimg\n",
    "from skimage.io import imread, imshow\n",
    "from skimage.color import rgb2gray\n",
    "from skimage import data, color, io, filters, morphology,transform, exposure, feature, util\n",
    "from scipy import ndimage\n",
    "\n",
    "from sklearn.preprocessing import StandardScaler\n",
    "import seaborn as sns\n",
    "\n",
    "\n",
    "\n",
    "import tensorflow as tf\n",
    "from tensorflow import keras\n",
    "from tensorflow.keras.models import Model\n",
    "from tensorflow.keras.models import Sequential\n",
    "from tensorflow.keras.layers import Activation\n",
    "from tensorflow.keras.layers import Input, Dense, Dropout, Flatten, BatchNormalization,concatenate\n",
    "from tensorflow.keras.layers import Input, Dense, Conv2D, MaxPooling2D, UpSampling2D, Conv2DTranspose\n",
    "from tensorflow.keras import backend as K\n",
    "from tensorflow.python.keras.layers.core import Dropout, Lambda\n",
    "from tensorflow.python.keras.layers.core import * \n",
    "from tensorflow.keras.layers import *\n",
    "from tensorflow.keras.utils import to_categorical\n",
    "from tensorflow.keras.preprocessing import image\n",
    "from tensorflow.keras import regularizers\n",
    "from tensorflow.keras.applications import ResNet50\n",
    "from tensorflow.keras.preprocessing.image import ImageDataGenerator\n",
    "\n",
    "\n",
    "from tensorflow.keras.applications.vgg19 import VGG19\n",
    "from tensorflow.keras.applications.vgg19 import preprocess_input, decode_predictions\n",
    "\n",
    "\n",
    "import glob\n",
    "\n",
    "\n",
    "from tensorflow.keras.callbacks import *\n",
    "# Voor GPU support\n",
    "physical_devices = tf.config.experimental.list_physical_devices('GPU')\n",
    "tf.config.experimental.set_memory_growth(physical_devices[0], True)\n",
    "\n",
    "pd.set_option('display.max_rows',10000)\n",
    "pd.set_option('display.max_columns',10000)"
   ]
  },
  {
   "cell_type": "markdown",
   "id": "8f9a2486",
   "metadata": {},
   "source": [
    "# 1) problem understanding\n",
    " "
   ]
  },
  {
   "cell_type": "code",
   "execution_count": 2,
   "id": "79475d8f",
   "metadata": {},
   "outputs": [],
   "source": [
    "batch_size = 32\n",
    "img_height = 200\n",
    "img_width = 200"
   ]
  },
  {
   "cell_type": "code",
   "execution_count": 4,
   "id": "e50a5d70",
   "metadata": {},
   "outputs": [
    {
     "name": "stdout",
     "output_type": "stream",
     "text": [
      "Found 7624 files belonging to 53 classes.\n"
     ]
    }
   ],
   "source": [
    "train_folder=\"./dataset/train\"\n",
    "train_ds = tf.keras.utils.image_dataset_from_directory(\n",
    "  train_folder,\n",
    "  seed=123,\n",
    "  image_size=(img_height, img_width),\n",
    "  batch_size=batch_size)"
   ]
  },
  {
   "cell_type": "code",
   "execution_count": 5,
   "id": "919b24bb",
   "metadata": {},
   "outputs": [
    {
     "name": "stdout",
     "output_type": "stream",
     "text": [
      "Found 265 files belonging to 53 classes.\n"
     ]
    }
   ],
   "source": [
    "validation_folder=\"./dataset/valid\"\n",
    "train_ds = tf.keras.utils.image_dataset_from_directory(\n",
    "  validation_folder,\n",
    "  seed=123,\n",
    "  image_size=(img_height, img_width),\n",
    "  batch_size=batch_size)"
   ]
  },
  {
   "cell_type": "code",
   "execution_count": 6,
   "id": "2109babf",
   "metadata": {},
   "outputs": [
    {
     "data": {
      "text/plain": [
       "<BatchDataset element_spec=(TensorSpec(shape=(None, 200, 200, 3), dtype=tf.float32, name=None), TensorSpec(shape=(None,), dtype=tf.int32, name=None))>"
      ]
     },
     "execution_count": 6,
     "metadata": {},
     "output_type": "execute_result"
    }
   ],
   "source": [
    "train_ds"
   ]
  },
  {
   "cell_type": "code",
   "execution_count": 8,
   "id": "c1c040f8",
   "metadata": {},
   "outputs": [
    {
     "data": {
      "text/plain": [
       "{0: 'ace of clubs',\n",
       " 1: 'ace of diamonds',\n",
       " 2: 'ace of hearts',\n",
       " 3: 'ace of spades',\n",
       " 4: 'eight of clubs',\n",
       " 5: 'eight of diamonds',\n",
       " 6: 'eight of hearts',\n",
       " 7: 'eight of spades',\n",
       " 8: 'five of clubs',\n",
       " 9: 'five of diamonds',\n",
       " 10: 'five of hearts',\n",
       " 11: 'five of spades',\n",
       " 12: 'four of clubs',\n",
       " 13: 'four of diamonds',\n",
       " 14: 'four of hearts',\n",
       " 15: 'four of spades',\n",
       " 16: 'jack of clubs',\n",
       " 17: 'jack of diamonds',\n",
       " 18: 'jack of hearts',\n",
       " 19: 'jack of spades',\n",
       " 20: 'joker',\n",
       " 21: 'king of clubs',\n",
       " 22: 'king of diamonds',\n",
       " 23: 'king of hearts',\n",
       " 24: 'king of spades',\n",
       " 25: 'nine of clubs',\n",
       " 26: 'nine of diamonds',\n",
       " 27: 'nine of hearts',\n",
       " 28: 'nine of spades',\n",
       " 29: 'queen of clubs',\n",
       " 30: 'queen of diamonds',\n",
       " 31: 'queen of hearts',\n",
       " 32: 'queen of spades',\n",
       " 33: 'seven of clubs',\n",
       " 34: 'seven of diamonds',\n",
       " 35: 'seven of hearts',\n",
       " 36: 'seven of spades',\n",
       " 37: 'six of clubs',\n",
       " 38: 'six of diamonds',\n",
       " 39: 'six of hearts',\n",
       " 40: 'six of spades',\n",
       " 41: 'ten of clubs',\n",
       " 42: 'ten of diamonds',\n",
       " 43: 'ten of hearts',\n",
       " 44: 'ten of spades',\n",
       " 45: 'three of clubs',\n",
       " 46: 'three of diamonds',\n",
       " 47: 'three of hearts',\n",
       " 48: 'three of spades',\n",
       " 49: 'two of clubs',\n",
       " 50: 'two of diamonds',\n",
       " 51: 'two of hearts',\n",
       " 52: 'two of spades'}"
      ]
     },
     "execution_count": 8,
     "metadata": {},
     "output_type": "execute_result"
    }
   ],
   "source": [
    "labels_classes = dict(zip(range(len(train_ds.class_names)), train_ds.class_names))\n",
    "labels_classes"
   ]
  },
  {
   "cell_type": "code",
   "execution_count": 13,
   "id": "2c5b92ac",
   "metadata": {},
   "outputs": [
    {
     "name": "stdout",
     "output_type": "stream",
     "text": [
      "(32, 200, 200, 3)\n",
      "(32,)\n"
     ]
    }
   ],
   "source": [
    "# batchsize, img_height, img_width, channels)\n",
    "for image_batch, label_batch in train_ds:\n",
    "    print(image_batch.shape)\n",
    "    print(label_batch.shape)\n",
    "    break \n"
   ]
  },
  {
   "cell_type": "code",
   "execution_count": null,
   "id": "faf8097f",
   "metadata": {},
   "outputs": [],
   "source": []
  },
  {
   "cell_type": "code",
   "execution_count": null,
   "id": "b52dfa20",
   "metadata": {},
   "outputs": [],
   "source": []
  }
 ],
 "metadata": {
  "kernelspec": {
   "display_name": "Python 3 (ipykernel)",
   "language": "python",
   "name": "python3"
  },
  "language_info": {
   "codemirror_mode": {
    "name": "ipython",
    "version": 3
   },
   "file_extension": ".py",
   "mimetype": "text/x-python",
   "name": "python",
   "nbconvert_exporter": "python",
   "pygments_lexer": "ipython3",
   "version": "3.8.0"
  }
 },
 "nbformat": 4,
 "nbformat_minor": 5
}
